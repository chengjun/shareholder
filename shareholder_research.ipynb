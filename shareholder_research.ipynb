{
 "cells": [
  {
   "cell_type": "markdown",
   "metadata": {},
   "source": [
    "# Stockholder-Company Network"
   ]
  },
  {
   "cell_type": "markdown",
   "metadata": {},
   "source": [
    "共2625285行，记录了当前的股东关系网络\n",
    "\n",
    "| Field         | Type         | Null | Key | Default | Note |\n",
    "|---------------|--------------|------|-----|---------|-------|\n",
    "| stock_id      | int(11)      | YES  |     | <null>  |股东id（注意是单独id) |\n",
    "| corp_id       | int(15)      | YES  |     | <null>  |企业id|\n",
    "| gudong        | varchar(225) | YES  |     | <null>  |股东名称|\n",
    "| gudongleixing | varchar(225) | YES  |     | <null>  |股东类型|\n",
    "| investor_id   | int(11)      | YES  |     | <null>  |股东对应的企业id|\n",
    "| investor_name | varchar(256) | YES  |     | <null>  |对应的企业名称（存在改名的情况，所以不一定与gudong相等）|\n",
    "    \n",
    "investorname和gudong是一个信息，前者是标准的库里名称。"
   ]
  },
  {
   "cell_type": "code",
   "execution_count": 51,
   "metadata": {
    "ExecuteTime": {
     "end_time": "2019-08-03T06:33:41.794337Z",
     "start_time": "2019-08-03T06:33:41.791791Z"
    }
   },
   "outputs": [],
   "source": [
    "import matplotlib.pyplot as plt\n",
    "import pandas as pd"
   ]
  },
  {
   "cell_type": "code",
   "execution_count": 12,
   "metadata": {
    "ExecuteTime": {
     "end_time": "2019-08-03T06:08:58.285353Z",
     "start_time": "2019-08-03T06:08:53.647422Z"
    }
   },
   "outputs": [
    {
     "data": {
      "text/html": [
       "<div>\n",
       "<style scoped>\n",
       "    .dataframe tbody tr th:only-of-type {\n",
       "        vertical-align: middle;\n",
       "    }\n",
       "\n",
       "    .dataframe tbody tr th {\n",
       "        vertical-align: top;\n",
       "    }\n",
       "\n",
       "    .dataframe thead th {\n",
       "        text-align: right;\n",
       "    }\n",
       "</style>\n",
       "<table border=\"1\" class=\"dataframe\">\n",
       "  <thead>\n",
       "    <tr style=\"text-align: right;\">\n",
       "      <th></th>\n",
       "      <th>sh_id</th>\n",
       "      <th>enterprise_id</th>\n",
       "      <th>sh_name</th>\n",
       "      <th>sh_type</th>\n",
       "      <th>sh_company_id</th>\n",
       "      <th>sh_company_name</th>\n",
       "    </tr>\n",
       "  </thead>\n",
       "  <tbody>\n",
       "    <tr>\n",
       "      <th>0</th>\n",
       "      <td>14364739</td>\n",
       "      <td>13929672</td>\n",
       "      <td>抚顺钢铁公司</td>\n",
       "      <td>法人股东</td>\n",
       "      <td>21337265</td>\n",
       "      <td>抚顺钢铁公司</td>\n",
       "    </tr>\n",
       "    <tr>\n",
       "      <th>1</th>\n",
       "      <td>9700478</td>\n",
       "      <td>9437006</td>\n",
       "      <td>抚顺钢铁公司</td>\n",
       "      <td>企业法人</td>\n",
       "      <td>21337265</td>\n",
       "      <td>抚顺钢铁公司</td>\n",
       "    </tr>\n",
       "    <tr>\n",
       "      <th>2</th>\n",
       "      <td>250359</td>\n",
       "      <td>250869</td>\n",
       "      <td>抚顺钢铁公司</td>\n",
       "      <td>企业法人</td>\n",
       "      <td>21337265</td>\n",
       "      <td>抚顺钢铁公司</td>\n",
       "    </tr>\n",
       "    <tr>\n",
       "      <th>3</th>\n",
       "      <td>14707611</td>\n",
       "      <td>14257867</td>\n",
       "      <td>抚顺钢铁公司</td>\n",
       "      <td>企业法人</td>\n",
       "      <td>21337265</td>\n",
       "      <td>抚顺钢铁公司</td>\n",
       "    </tr>\n",
       "    <tr>\n",
       "      <th>4</th>\n",
       "      <td>27493957</td>\n",
       "      <td>26576036</td>\n",
       "      <td>抚顺钢铁公司</td>\n",
       "      <td>企业法人</td>\n",
       "      <td>21337265</td>\n",
       "      <td>抚顺钢铁公司</td>\n",
       "    </tr>\n",
       "  </tbody>\n",
       "</table>\n",
       "</div>"
      ],
      "text/plain": [
       "      sh_id  enterprise_id sh_name sh_type  sh_company_id sh_company_name\n",
       "0  14364739       13929672  抚顺钢铁公司    法人股东       21337265          抚顺钢铁公司\n",
       "1   9700478        9437006  抚顺钢铁公司    企业法人       21337265          抚顺钢铁公司\n",
       "2    250359         250869  抚顺钢铁公司    企业法人       21337265          抚顺钢铁公司\n",
       "3  14707611       14257867  抚顺钢铁公司    企业法人       21337265          抚顺钢铁公司\n",
       "4  27493957       26576036  抚顺钢铁公司    企业法人       21337265          抚顺钢铁公司"
      ]
     },
     "execution_count": 12,
     "metadata": {},
     "output_type": "execute_result"
    }
   ],
   "source": [
    "df = pd.read_csv('/Users/datalab/bigdata/business_shareholder/business_shareholder.csv', \n",
    "                names = ['sh_id', 'enterprise_id', 'sh_name', 'sh_type', 'sh_company_id', 'sh_company_name'])\n",
    "df.head()"
   ]
  },
  {
   "cell_type": "code",
   "execution_count": 13,
   "metadata": {
    "ExecuteTime": {
     "end_time": "2019-08-03T06:09:23.257563Z",
     "start_time": "2019-08-03T06:09:23.253600Z"
    }
   },
   "outputs": [
    {
     "data": {
      "text/plain": [
       "2625285"
      ]
     },
     "execution_count": 13,
     "metadata": {},
     "output_type": "execute_result"
    }
   ],
   "source": [
    "len(df)"
   ]
  },
  {
   "cell_type": "markdown",
   "metadata": {},
   "source": [
    "# Economic Complexity index"
   ]
  },
  {
   "cell_type": "code",
   "execution_count": 82,
   "metadata": {
    "ExecuteTime": {
     "end_time": "2019-08-03T07:10:31.070423Z",
     "start_time": "2019-08-03T07:10:31.067782Z"
    }
   },
   "outputs": [],
   "source": [
    "from ECI2 import *\n",
    "import scipy.sparse.linalg \n",
    "import scipy\n",
    "from scipy import sparse"
   ]
  },
  {
   "cell_type": "code",
   "execution_count": 80,
   "metadata": {
    "ExecuteTime": {
     "end_time": "2019-08-03T07:09:45.833356Z",
     "start_time": "2019-08-03T07:09:41.651790Z"
    }
   },
   "outputs": [],
   "source": [
    "x = list(df[\"sh_id\"])\n",
    "y = list(df[\"enterprise_id\"])\n",
    "#data = np.array(list(df_year[\"export_value\"]))\n",
    "sx = list(set(x))\n",
    "sy =list(set(y))\n",
    "dx = dict(zip(sx,range(len(sx))))\n",
    "dy = dict(zip(sy,range(len(sy))))\n",
    "x1 = [dx[xi] for xi in x]\n",
    "y1 = [dy[yi] for yi in y]"
   ]
  },
  {
   "cell_type": "code",
   "execution_count": 83,
   "metadata": {
    "ExecuteTime": {
     "end_time": "2019-08-03T07:11:08.958997Z",
     "start_time": "2019-08-03T07:11:08.715854Z"
    }
   },
   "outputs": [],
   "source": [
    "data = np.array([1 for i in x])"
   ]
  },
  {
   "cell_type": "code",
   "execution_count": 84,
   "metadata": {
    "ExecuteTime": {
     "end_time": "2019-08-03T07:11:15.409830Z",
     "start_time": "2019-08-03T07:11:15.406272Z"
    }
   },
   "outputs": [
    {
     "data": {
      "text/plain": [
       "(2625285, 2625285, 2625285)"
      ]
     },
     "execution_count": 84,
     "metadata": {},
     "output_type": "execute_result"
    }
   ],
   "source": [
    "len(y1), len(x), len(data)"
   ]
  },
  {
   "cell_type": "code",
   "execution_count": 85,
   "metadata": {
    "ExecuteTime": {
     "end_time": "2019-08-03T07:11:20.587286Z",
     "start_time": "2019-08-03T07:11:19.370195Z"
    }
   },
   "outputs": [],
   "source": [
    "M = sparse.csc_matrix((data,(x1,y1)),(len(dx),len(dy)))"
   ]
  },
  {
   "cell_type": "code",
   "execution_count": 86,
   "metadata": {
    "ExecuteTime": {
     "end_time": "2019-08-03T07:11:26.829950Z",
     "start_time": "2019-08-03T07:11:26.826082Z"
    }
   },
   "outputs": [
    {
     "data": {
      "text/plain": [
       "(2605950, 1983342)"
      ]
     },
     "execution_count": 86,
     "metadata": {},
     "output_type": "execute_result"
    }
   ],
   "source": [
    "M.shape"
   ]
  },
  {
   "cell_type": "code",
   "execution_count": null,
   "metadata": {
    "ExecuteTime": {
     "start_time": "2019-08-03T07:12:39.898Z"
    }
   },
   "outputs": [],
   "source": [
    "R = RCA_sparse(M)"
   ]
  },
  {
   "cell_type": "code",
   "execution_count": null,
   "metadata": {},
   "outputs": [],
   "source": []
  },
  {
   "cell_type": "code",
   "execution_count": null,
   "metadata": {},
   "outputs": [],
   "source": []
  },
  {
   "cell_type": "markdown",
   "metadata": {},
   "source": [
    "## Co-investment network"
   ]
  },
  {
   "cell_type": "code",
   "execution_count": 78,
   "metadata": {
    "ExecuteTime": {
     "end_time": "2019-08-03T06:59:22.591719Z",
     "start_time": "2019-08-03T06:59:22.580367Z"
    }
   },
   "outputs": [
    {
     "data": {
      "text/html": [
       "<div>\n",
       "<style scoped>\n",
       "    .dataframe tbody tr th:only-of-type {\n",
       "        vertical-align: middle;\n",
       "    }\n",
       "\n",
       "    .dataframe tbody tr th {\n",
       "        vertical-align: top;\n",
       "    }\n",
       "\n",
       "    .dataframe thead th {\n",
       "        text-align: right;\n",
       "    }\n",
       "</style>\n",
       "<table border=\"1\" class=\"dataframe\">\n",
       "  <thead>\n",
       "    <tr style=\"text-align: right;\">\n",
       "      <th></th>\n",
       "      <th>sh_id</th>\n",
       "      <th>enterprise_id</th>\n",
       "      <th>sh_name</th>\n",
       "      <th>sh_type</th>\n",
       "      <th>sh_company_id</th>\n",
       "      <th>sh_company_name</th>\n",
       "    </tr>\n",
       "  </thead>\n",
       "  <tbody>\n",
       "    <tr>\n",
       "      <th>0</th>\n",
       "      <td>14364739</td>\n",
       "      <td>13929672</td>\n",
       "      <td>抚顺钢铁公司</td>\n",
       "      <td>法人股东</td>\n",
       "      <td>21337265</td>\n",
       "      <td>抚顺钢铁公司</td>\n",
       "    </tr>\n",
       "    <tr>\n",
       "      <th>896021</th>\n",
       "      <td>14364736</td>\n",
       "      <td>13929672</td>\n",
       "      <td>辽宁信托投资公司</td>\n",
       "      <td>法人股东</td>\n",
       "      <td>37158655</td>\n",
       "      <td>辽宁信托投资公司</td>\n",
       "    </tr>\n",
       "    <tr>\n",
       "      <th>1940792</th>\n",
       "      <td>14364743</td>\n",
       "      <td>13929672</td>\n",
       "      <td>本溪实业开发股份有限公司</td>\n",
       "      <td>法人股东</td>\n",
       "      <td>12587706</td>\n",
       "      <td>本溪实业开发股份有限公司</td>\n",
       "    </tr>\n",
       "    <tr>\n",
       "      <th>2461312</th>\n",
       "      <td>14364734</td>\n",
       "      <td>13929672</td>\n",
       "      <td>辽宁科联实业集团</td>\n",
       "      <td>法人股东</td>\n",
       "      <td>30731274</td>\n",
       "      <td>辽宁省老科技工作者活动中心</td>\n",
       "    </tr>\n",
       "    <tr>\n",
       "      <th>2461337</th>\n",
       "      <td>14364735</td>\n",
       "      <td>13929672</td>\n",
       "      <td>辽宁能源总公司</td>\n",
       "      <td>法人股东</td>\n",
       "      <td>55469595</td>\n",
       "      <td>辽宁能源投资（集团）有限责任公司</td>\n",
       "    </tr>\n",
       "  </tbody>\n",
       "</table>\n",
       "</div>"
      ],
      "text/plain": [
       "            sh_id  enterprise_id       sh_name sh_type  sh_company_id  \\\n",
       "0        14364739       13929672        抚顺钢铁公司    法人股东       21337265   \n",
       "896021   14364736       13929672      辽宁信托投资公司    法人股东       37158655   \n",
       "1940792  14364743       13929672  本溪实业开发股份有限公司    法人股东       12587706   \n",
       "2461312  14364734       13929672      辽宁科联实业集团    法人股东       30731274   \n",
       "2461337  14364735       13929672       辽宁能源总公司    法人股东       55469595   \n",
       "\n",
       "          sh_company_name  \n",
       "0                  抚顺钢铁公司  \n",
       "896021           辽宁信托投资公司  \n",
       "1940792      本溪实业开发股份有限公司  \n",
       "2461312     辽宁省老科技工作者活动中心  \n",
       "2461337  辽宁能源投资（集团）有限责任公司  "
      ]
     },
     "execution_count": 78,
     "metadata": {},
     "output_type": "execute_result"
    }
   ],
   "source": [
    "df[df['enterprise_id']==13929672]"
   ]
  },
  {
   "cell_type": "code",
   "execution_count": null,
   "metadata": {},
   "outputs": [],
   "source": []
  },
  {
   "cell_type": "code",
   "execution_count": null,
   "metadata": {},
   "outputs": [],
   "source": []
  },
  {
   "cell_type": "code",
   "execution_count": null,
   "metadata": {},
   "outputs": [],
   "source": []
  },
  {
   "cell_type": "code",
   "execution_count": null,
   "metadata": {},
   "outputs": [],
   "source": []
  },
  {
   "cell_type": "code",
   "execution_count": null,
   "metadata": {},
   "outputs": [],
   "source": []
  },
  {
   "cell_type": "code",
   "execution_count": null,
   "metadata": {},
   "outputs": [],
   "source": []
  },
  {
   "cell_type": "markdown",
   "metadata": {},
   "source": [
    "## 股东的公司改名情况"
   ]
  },
  {
   "cell_type": "code",
   "execution_count": 17,
   "metadata": {
    "ExecuteTime": {
     "end_time": "2019-08-03T06:19:27.388421Z",
     "start_time": "2019-08-03T06:19:27.188782Z"
    }
   },
   "outputs": [
    {
     "data": {
      "text/plain": [
       "97495"
      ]
     },
     "execution_count": 17,
     "metadata": {},
     "output_type": "execute_result"
    }
   ],
   "source": [
    "dat = df[df['sh_name'] != df['sh_company_name']]\n",
    "len(dat)"
   ]
  },
  {
   "cell_type": "code",
   "execution_count": 27,
   "metadata": {
    "ExecuteTime": {
     "end_time": "2019-08-03T06:24:27.787766Z",
     "start_time": "2019-08-03T06:24:27.774416Z"
    }
   },
   "outputs": [
    {
     "data": {
      "text/plain": [
       "97324"
      ]
     },
     "execution_count": 27,
     "metadata": {},
     "output_type": "execute_result"
    }
   ],
   "source": [
    "dat = dat[pd.isna(dat['sh_name']) == False]\n",
    "len(dat)"
   ]
  },
  {
   "cell_type": "code",
   "execution_count": 28,
   "metadata": {
    "ExecuteTime": {
     "end_time": "2019-08-03T06:24:39.641249Z",
     "start_time": "2019-08-03T06:24:39.632616Z"
    }
   },
   "outputs": [
    {
     "data": {
      "text/html": [
       "<div>\n",
       "<style scoped>\n",
       "    .dataframe tbody tr th:only-of-type {\n",
       "        vertical-align: middle;\n",
       "    }\n",
       "\n",
       "    .dataframe tbody tr th {\n",
       "        vertical-align: top;\n",
       "    }\n",
       "\n",
       "    .dataframe thead th {\n",
       "        text-align: right;\n",
       "    }\n",
       "</style>\n",
       "<table border=\"1\" class=\"dataframe\">\n",
       "  <thead>\n",
       "    <tr style=\"text-align: right;\">\n",
       "      <th></th>\n",
       "      <th>sh_id</th>\n",
       "      <th>enterprise_id</th>\n",
       "      <th>sh_name</th>\n",
       "      <th>sh_type</th>\n",
       "      <th>sh_company_id</th>\n",
       "      <th>sh_company_name</th>\n",
       "    </tr>\n",
       "  </thead>\n",
       "  <tbody>\n",
       "    <tr>\n",
       "      <th>16287</th>\n",
       "      <td>42122809</td>\n",
       "      <td>40587198</td>\n",
       "      <td>aaaa</td>\n",
       "      <td>企业法人</td>\n",
       "      <td>2481805</td>\n",
       "      <td>AAAA</td>\n",
       "    </tr>\n",
       "    <tr>\n",
       "      <th>16288</th>\n",
       "      <td>27741343</td>\n",
       "      <td>26814131</td>\n",
       "      <td>aaaa</td>\n",
       "      <td>企业法人</td>\n",
       "      <td>2481805</td>\n",
       "      <td>AAAA</td>\n",
       "    </tr>\n",
       "    <tr>\n",
       "      <th>16289</th>\n",
       "      <td>52389488</td>\n",
       "      <td>50359492</td>\n",
       "      <td>AAAA</td>\n",
       "      <td>企业法人</td>\n",
       "      <td>24756576</td>\n",
       "      <td>aaaa</td>\n",
       "    </tr>\n",
       "    <tr>\n",
       "      <th>24395</th>\n",
       "      <td>21032189</td>\n",
       "      <td>20346686</td>\n",
       "      <td>XXXX</td>\n",
       "      <td>其他投资者</td>\n",
       "      <td>3625852</td>\n",
       "      <td>xxxx</td>\n",
       "    </tr>\n",
       "    <tr>\n",
       "      <th>24396</th>\n",
       "      <td>22018428</td>\n",
       "      <td>21297375</td>\n",
       "      <td>XXXX</td>\n",
       "      <td>其他投资者</td>\n",
       "      <td>3625852</td>\n",
       "      <td>xxxx</td>\n",
       "    </tr>\n",
       "  </tbody>\n",
       "</table>\n",
       "</div>"
      ],
      "text/plain": [
       "          sh_id  enterprise_id sh_name sh_type  sh_company_id sh_company_name\n",
       "16287  42122809       40587198    aaaa    企业法人        2481805            AAAA\n",
       "16288  27741343       26814131    aaaa    企业法人        2481805            AAAA\n",
       "16289  52389488       50359492    AAAA    企业法人       24756576            aaaa\n",
       "24395  21032189       20346686    XXXX   其他投资者        3625852            xxxx\n",
       "24396  22018428       21297375    XXXX   其他投资者        3625852            xxxx"
      ]
     },
     "execution_count": 28,
     "metadata": {},
     "output_type": "execute_result"
    }
   ],
   "source": [
    "dat.head()"
   ]
  },
  {
   "cell_type": "code",
   "execution_count": 29,
   "metadata": {
    "ExecuteTime": {
     "end_time": "2019-08-03T06:24:47.353074Z",
     "start_time": "2019-08-03T06:24:47.344162Z"
    }
   },
   "outputs": [
    {
     "data": {
      "text/html": [
       "<div>\n",
       "<style scoped>\n",
       "    .dataframe tbody tr th:only-of-type {\n",
       "        vertical-align: middle;\n",
       "    }\n",
       "\n",
       "    .dataframe tbody tr th {\n",
       "        vertical-align: top;\n",
       "    }\n",
       "\n",
       "    .dataframe thead th {\n",
       "        text-align: right;\n",
       "    }\n",
       "</style>\n",
       "<table border=\"1\" class=\"dataframe\">\n",
       "  <thead>\n",
       "    <tr style=\"text-align: right;\">\n",
       "      <th></th>\n",
       "      <th>sh_id</th>\n",
       "      <th>enterprise_id</th>\n",
       "      <th>sh_name</th>\n",
       "      <th>sh_type</th>\n",
       "      <th>sh_company_id</th>\n",
       "      <th>sh_company_name</th>\n",
       "    </tr>\n",
       "  </thead>\n",
       "  <tbody>\n",
       "    <tr>\n",
       "      <th>2625222</th>\n",
       "      <td>10991558</td>\n",
       "      <td>10685404</td>\n",
       "      <td>诸暨上峰水泥有限公司</td>\n",
       "      <td>法人股东</td>\n",
       "      <td>3363086</td>\n",
       "      <td>诸暨小峰机械有限公司</td>\n",
       "    </tr>\n",
       "    <tr>\n",
       "      <th>2625265</th>\n",
       "      <td>12596839</td>\n",
       "      <td>12228538</td>\n",
       "      <td>辽宁无线电二厂（集团）</td>\n",
       "      <td>企业法人</td>\n",
       "      <td>49856284</td>\n",
       "      <td>大连辽无二电器有限公司</td>\n",
       "    </tr>\n",
       "    <tr>\n",
       "      <th>2625266</th>\n",
       "      <td>4101250</td>\n",
       "      <td>3998578</td>\n",
       "      <td>辽宁无线电二厂（集团）</td>\n",
       "      <td>其他投资者</td>\n",
       "      <td>49856284</td>\n",
       "      <td>大连辽无二电器有限公司</td>\n",
       "    </tr>\n",
       "    <tr>\n",
       "      <th>2625267</th>\n",
       "      <td>9859489</td>\n",
       "      <td>9590952</td>\n",
       "      <td>沈阳黎明高级服装厂（集团）</td>\n",
       "      <td>其他投资者</td>\n",
       "      <td>45583537</td>\n",
       "      <td>沈阳黎明服装集团公司</td>\n",
       "    </tr>\n",
       "    <tr>\n",
       "      <th>2625284</th>\n",
       "      <td>16497211</td>\n",
       "      <td>15971342</td>\n",
       "      <td>杭州师范学院附属工厂</td>\n",
       "      <td>企业法人</td>\n",
       "      <td>25229986</td>\n",
       "      <td>杭州师范大学附属工厂</td>\n",
       "    </tr>\n",
       "  </tbody>\n",
       "</table>\n",
       "</div>"
      ],
      "text/plain": [
       "            sh_id  enterprise_id        sh_name sh_type  sh_company_id  \\\n",
       "2625222  10991558       10685404     诸暨上峰水泥有限公司    法人股东        3363086   \n",
       "2625265  12596839       12228538    辽宁无线电二厂（集团）    企业法人       49856284   \n",
       "2625266   4101250        3998578    辽宁无线电二厂（集团）   其他投资者       49856284   \n",
       "2625267   9859489        9590952  沈阳黎明高级服装厂（集团）   其他投资者       45583537   \n",
       "2625284  16497211       15971342     杭州师范学院附属工厂    企业法人       25229986   \n",
       "\n",
       "        sh_company_name  \n",
       "2625222      诸暨小峰机械有限公司  \n",
       "2625265     大连辽无二电器有限公司  \n",
       "2625266     大连辽无二电器有限公司  \n",
       "2625267      沈阳黎明服装集团公司  \n",
       "2625284      杭州师范大学附属工厂  "
      ]
     },
     "execution_count": 29,
     "metadata": {},
     "output_type": "execute_result"
    }
   ],
   "source": [
    "dat.tail()"
   ]
  },
  {
   "cell_type": "markdown",
   "metadata": {},
   "source": [
    "法人股东亦称单位股东，是指以公司或集团(机构)名义占有其他企业股份的股东。"
   ]
  },
  {
   "cell_type": "markdown",
   "metadata": {},
   "source": [
    "## stockholder's types"
   ]
  },
  {
   "cell_type": "code",
   "execution_count": 14,
   "metadata": {
    "ExecuteTime": {
     "end_time": "2019-08-03T06:12:57.101861Z",
     "start_time": "2019-08-03T06:12:56.989691Z"
    }
   },
   "outputs": [
    {
     "data": {
      "text/plain": [
       "array(['法人股东', '企业法人', '有限公司(自然人独资)', '其他投资者', '其他非自然人投资者', '全民所有制', '法人',\n",
       "       '社团法人', '主管单位', '集体所有制(股份合作制)', '有限公司', '其他企业法人', '集体所有制',\n",
       "       '有限公司(国有独资)', '其他股东', '有限责任公司(中外合资)', '有限公司(自然人控股)', '内资企业法人', '1',\n",
       "       '外国(地区)企业', '国有企业', '其他', '股份有限公司(自然人控股)', '有限合伙人',\n",
       "       '集体所有制(股份合作制-股份制)', '企业', '股份有限公司', '外商投资企业', '联营', '个人独资', '合伙企业',\n",
       "       '集体所有制(合作制)', '有限公司(法人独资)内资', '普通合伙企业', '国家授权投资部门',\n",
       "       '有限责任公司(台港澳与境内合资)', '中方（承料方）', '香港企业', '外国企业', '子公司',\n",
       "       '有限责任公司(外国法人独资)', '内资合伙企业', '外国(地区)投资者', '外国投资者', '外国(地区)经济组织',\n",
       "       '其它', '集体企业', '企业法人（全民所有制）', '国家授权投资机构', '有限公司(法人独资)私营', '普通合伙人',\n",
       "       '股份有限公司(上市)', '有限责任', '有限责任公司(台港澳法人独资)', '外商投资投资性公司',\n",
       "       '股份有限公司(中外合资，未上市)', '参股公司', '股份有限公司(台港澳与境内合资，上市)',\n",
       "       '股份有限公司(台港澳与境内合资，未上市)', '外国（地区）投资者', '有限责任公司', '有限合伙企业', '港澳台投资者',\n",
       "       '母公司', '股份有限公司(中外合资，上市)', '外商投资创业投资企业', '特殊的普通合伙企业', '外商投资合伙企业',\n",
       "       '本地企业', '有限责任公司(中外合作)', '台湾企业', '有限责任公司(台港澳与境内合作)',\n",
       "       '股份有限公司(上市,自然人控股)', '全名所有制', '公司', '有限责任公司(外国自然人独资)',\n",
       "       '有限责任公司（非自然人投资或控股的法人独资）', '有限责任公司(外商合资)', '有限责任公司（法人独资）',\n",
       "       '外商/港澳台投资企业', '有限公司(国有独资－国家授权投资主体)', '有限责任公司(台港澳自然人独资)',\n",
       "       '有限责任公司（国有独资）', '有限责任公司(国有独资)', '企业法人营业执照(公司)', '股份有限公司(外商合资，上市)',\n",
       "       '国有独资', '有限责任公司(台港澳与外国投资者合资)', '民办非企业法人', '合伙企业(外资)',\n",
       "       '有限责任公司(台港澳合资)', '非公司台、港、澳企业（台港澳与境内合作）', '股份有限公司(台港澳合资，未上市)',\n",
       "       '股份有限公司(台港澳与外国投资者合资，未上市)', '股份有限公司(台港澳与外国投资者合资，上市)', '无限责任',\n",
       "       '商务单位', '有限责任公司（国有控股）', '社会团体法人', '集体', '股份有限公司(外商合资，未上市)',\n",
       "       '集体所有制企业法人', '农民专业合作社', '有限责任公司(外国非法人经济组织独资)', '国有', '外方（来料方）',\n",
       "       '有限责任公司(外资)', '股份有限公司(台港澳合资，上市)', '非公司外商投资企业（中外合作）', '企业业法人',\n",
       "       '特殊普通合伙人责任', '内资企业法人分支机构（非法人）', '外商投资有限合伙企业', '市场', '国家授权投资的机构或部门',\n",
       "       '机构法人', '股份合作制', '外商投资普通合伙企业', '法人企业', '集团公司', '企业非法人', '工会法人'],\n",
       "      dtype=object)"
      ]
     },
     "execution_count": 14,
     "metadata": {},
     "output_type": "execute_result"
    }
   ],
   "source": [
    "df['sh_type'].unique()"
   ]
  },
  {
   "cell_type": "code",
   "execution_count": 73,
   "metadata": {
    "ExecuteTime": {
     "end_time": "2019-08-03T06:47:28.859218Z",
     "start_time": "2019-08-03T06:47:28.657213Z"
    }
   },
   "outputs": [
    {
     "data": {
      "text/html": [
       "<div>\n",
       "<style scoped>\n",
       "    .dataframe tbody tr th:only-of-type {\n",
       "        vertical-align: middle;\n",
       "    }\n",
       "\n",
       "    .dataframe tbody tr th {\n",
       "        vertical-align: top;\n",
       "    }\n",
       "\n",
       "    .dataframe thead th {\n",
       "        text-align: right;\n",
       "    }\n",
       "</style>\n",
       "<table border=\"1\" class=\"dataframe\">\n",
       "  <thead>\n",
       "    <tr style=\"text-align: right;\">\n",
       "      <th></th>\n",
       "      <th>sh_type</th>\n",
       "    </tr>\n",
       "  </thead>\n",
       "  <tbody>\n",
       "    <tr>\n",
       "      <th>企业法人</th>\n",
       "      <td>0.641456</td>\n",
       "    </tr>\n",
       "    <tr>\n",
       "      <th>法人股东</th>\n",
       "      <td>0.209559</td>\n",
       "    </tr>\n",
       "    <tr>\n",
       "      <th>其他投资者</th>\n",
       "      <td>0.032281</td>\n",
       "    </tr>\n",
       "    <tr>\n",
       "      <th>有限公司</th>\n",
       "      <td>0.029681</td>\n",
       "    </tr>\n",
       "    <tr>\n",
       "      <th>有限公司(自然人控股)</th>\n",
       "      <td>0.022290</td>\n",
       "    </tr>\n",
       "    <tr>\n",
       "      <th>合伙企业</th>\n",
       "      <td>0.009337</td>\n",
       "    </tr>\n",
       "    <tr>\n",
       "      <th>其他非自然人投资者</th>\n",
       "      <td>0.004862</td>\n",
       "    </tr>\n",
       "    <tr>\n",
       "      <th>有限公司(法人独资)内资</th>\n",
       "      <td>0.004332</td>\n",
       "    </tr>\n",
       "    <tr>\n",
       "      <th>外商投资企业</th>\n",
       "      <td>0.003787</td>\n",
       "    </tr>\n",
       "    <tr>\n",
       "      <th>集体所有制</th>\n",
       "      <td>0.003155</td>\n",
       "    </tr>\n",
       "  </tbody>\n",
       "</table>\n",
       "</div>"
      ],
      "text/plain": [
       "               sh_type\n",
       "企业法人          0.641456\n",
       "法人股东          0.209559\n",
       "其他投资者         0.032281\n",
       "有限公司          0.029681\n",
       "有限公司(自然人控股)   0.022290\n",
       "合伙企业          0.009337\n",
       "其他非自然人投资者     0.004862\n",
       "有限公司(法人独资)内资  0.004332\n",
       "外商投资企业        0.003787\n",
       "集体所有制         0.003155"
      ]
     },
     "execution_count": 73,
     "metadata": {},
     "output_type": "execute_result"
    }
   ],
   "source": [
    "pd.DataFrame(df[\"sh_type\"].value_counts(normalize = True))[:10]"
   ]
  },
  {
   "cell_type": "code",
   "execution_count": 53,
   "metadata": {
    "ExecuteTime": {
     "end_time": "2019-08-03T06:36:28.190007Z",
     "start_time": "2019-08-03T06:36:28.187306Z"
    }
   },
   "outputs": [],
   "source": [
    "import matplotlib\n",
    "matplotlib.rcParams['font.sans-serif'] = ['Microsoft YaHei'] "
   ]
  },
  {
   "cell_type": "code",
   "execution_count": 55,
   "metadata": {
    "ExecuteTime": {
     "end_time": "2019-08-03T06:37:02.261064Z",
     "start_time": "2019-08-03T06:37:02.257281Z"
    }
   },
   "outputs": [
    {
     "data": {
      "text/plain": [
       "['企业法人',\n",
       " '法人股东',\n",
       " '其他投资者',\n",
       " '有限公司',\n",
       " '有限公司(自然人控股)',\n",
       " '合伙企业',\n",
       " '其他非自然人投资者',\n",
       " '有限公司(法人独资)内资',\n",
       " '外商投资企业',\n",
       " '集体所有制']"
      ]
     },
     "execution_count": 55,
     "metadata": {},
     "output_type": "execute_result"
    }
   ],
   "source": [
    "types[:10]"
   ]
  },
  {
   "cell_type": "code",
   "execution_count": 77,
   "metadata": {
    "ExecuteTime": {
     "end_time": "2019-08-03T06:49:43.375102Z",
     "start_time": "2019-08-03T06:49:42.445696Z"
    }
   },
   "outputs": [
    {
     "data": {
      "image/png": "[encoded data removed]",
      "text/plain": [
       "<Figure size 432x288 with 1 Axes>"
      ]
     },
     "metadata": {
      "needs_background": "light"
     },
     "output_type": "display_data"
    }
   ],
   "source": [
    "types = df[\"sh_type\"].value_counts(normalize = True).index.tolist()\n",
    "count = df[\"sh_type\"].value_counts(normalize = True).tolist()\n",
    "rank = range(1, len(count)+1)\n",
    "\n",
    "plt.plot(rank, count, 'g-o')\n",
    "for k, i in enumerate(rank[:6]):\n",
    "    plt.text(i-0.2, count[k], types[k], fontsize = 10, \n",
    "                 color = 'red', rotation = 30)\n",
    "plt.xscale('log')\n",
    "plt.yscale('log')\n",
    "plt.xlabel('rank (log)', fontsize = 15)\n",
    "plt.ylabel('Probability (log)', fontsize = 15)\n",
    "plt.title('Distribution of Stockholders', fontsize = 20)\n",
    "plt.show()"
   ]
  },
  {
   "cell_type": "code",
   "execution_count": null,
   "metadata": {},
   "outputs": [],
   "source": []
  },
  {
   "cell_type": "code",
   "execution_count": null,
   "metadata": {},
   "outputs": [],
   "source": []
  },
  {
   "cell_type": "markdown",
   "metadata": {},
   "source": [
    "# More info\n",
    "\n",
    "business_entrytrend.csv"
   ]
  },
  {
   "cell_type": "markdown",
   "metadata": {},
   "source": [
    "共59179961 行，记录企业的基本信息\n",
    "\n",
    "\n",
    "\n",
    "| Field            | Type         | Null | Key | Default | Note\n",
    "|------------:|:--------------:|:------:|:----:|:----:|-------:|\n",
    "| id               | int(11)      | NO   | MUL | 0       |企业id |\n",
    "| type2            | varchar(90)  | YES  |     | <null>  |企业注册类型：国有企业、集体企业|\n",
    "| fivekm           | int(1)       | YES  | MUL | <null>  |是否在县域边界5km以内|\n",
    "| tenkm            | int(1)       | YES  | MUL | <null>  |是否在县域边界10km以内|\n",
    "| city             | varchar(255) | YES  | MUL | <null>  |城市|\n",
    "| citycode         | varchar(45)  | YES  |     | <null>  |城市代码|\n",
    "| district         | varchar(255) | YES  |     | <null>  |县区|\n",
    "| adcode           | varchar(45)  | YES  |     | <null>  |县区代码|\n",
    "| suoshuhangye     | varchar(50)  | YES  | MUL | <null>  |所在一级行业|\n",
    "| status           | varchar(128) | YES  | MUL | <null>  |当前状态，直接用closed|\n",
    "| entryyear        | int(11)      | YES  | MUL | <null>  |注册年|\n",
    "| exityear         | int(6)       | YES  | MUL | <null>  |注销年|\n",
    "| closed           | int(1)       | YES  | MUL | <null>  |是否关闭|\n",
    "| industry         | int(2)       | YES  |     | <null>  |制造业企业的2级行业|\n",
    "| entrymonth       | varchar(2)   | YES  |     | <null>  |注册月份|\n",
    "| exitmonth        | varchar(2)   | YES  |     | <null>  |注销月份|\n",
    "| death_3y         | varchar(2)   | YES  |     | 0       |是否存续超过3年|\n",
    "| lifelong         | int(2)       | YES  |     | <null>  |存续时间|\n",
    "| regcapital       | double       | YES  | MUL | <null>  |注册资本(万)|\n",
    "| vc_5y            | int(1)       | YES  |     | <null>  |成立五年内是否获得风投或ipo，可以作为增长的一个指标|\n",
    "| patent_1y        | int(1)       | YES  | MUL | <null>  |成立一年内是否申请发明专利|\n",
    "| firstpatent_year | int(4)       | YES  | MUL | <null>  |第一个发明专利的申请年|\n"
   ]
  },
  {
   "cell_type": "code",
   "execution_count": null,
   "metadata": {},
   "outputs": [],
   "source": []
  }
 ],
 "metadata": {
  "kernelspec": {
   "display_name": "Python 3",
   "language": "python",
   "name": "python3"
  },
  "language_info": {
   "codemirror_mode": {
    "name": "ipython",
    "version": 3
   },
   "file_extension": ".py",
   "mimetype": "text/x-python",
   "name": "python",
   "nbconvert_exporter": "python",
   "pygments_lexer": "ipython3",
   "version": "3.7.3"
  },
  "latex_envs": {
   "LaTeX_envs_menu_present": true,
   "autoclose": false,
   "autocomplete": true,
   "bibliofile": "biblio.bib",
   "cite_by": "apalike",
   "current_citInitial": 1,
   "eqLabelWithNumbers": true,
   "eqNumInitial": 1,
   "hotkeys": {
    "equation": "Ctrl-E",
    "itemize": "Ctrl-I"
   },
   "labels_anchors": false,
   "latex_user_defs": false,
   "report_style_numbering": false,
   "user_envs_cfg": false
  },
  "toc": {
   "base_numbering": 1,
   "nav_menu": {},
   "number_sections": false,
   "sideBar": true,
   "skip_h1_title": false,
   "title_cell": "Table of Contents",
   "title_sidebar": "Contents",
   "toc_cell": false,
   "toc_position": {},
   "toc_section_display": true,
   "toc_window_display": false
  }
 },
 "nbformat": 4,
 "nbformat_minor": 2
}
